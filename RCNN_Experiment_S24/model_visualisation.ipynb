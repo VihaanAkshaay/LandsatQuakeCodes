{
 "cells": [
  {
   "cell_type": "code",
   "execution_count": 2,
   "metadata": {},
   "outputs": [],
   "source": [
    "# This is a good reference: https://pytorch.org/tutorials/intermediate/torchvision_tutorial.html\n",
    "import torch\n",
    "from torch.utils.data import DataLoader\n",
    "import numpy as np\n",
    "import data_utils  # Replace with your actual data_utils module\n",
    "import model_def  # Replace with your actual model definition module\n",
    "\n",
    "# Importing from helper functions\n",
    "import model_def\n",
    "import data_utils\n",
    "\n",
    "# Function to load the modified model\n",
    "def load_model(model_path, num_classes, custom_means, custom_stds, device):\n",
    "    # Initialize the model\n",
    "    model = model_def.get_model_instance_segmentation(num_classes)\n",
    "    # Modify the model to accept 7-channel images\n",
    "    model = model_def.modify_fasterrcnn_resnet50_fpn_channels(model, 7, custom_means, custom_stds)\n",
    "    # Load the pre-trained weights\n",
    "    model.load_state_dict(torch.load(model_path, map_location=device))\n",
    "    model.to(device)\n",
    "    return model\n"
   ]
  },
  {
   "cell_type": "code",
   "execution_count": null,
   "metadata": {},
   "outputs": [],
   "source": [
    "# Model and dataset setup\n",
    "model_path = 'final_model_RCNN.pth'\n",
    "\n",
    "# yolo label folders:\n",
    "train_yolo_labels = 'train_yolo_labels'\n",
    "val_yolo_labels = 'val_yolo_labels'\n",
    "test_yolo_labels = 'test_yolo_labels'\n",
    "\n",
    "# Target npy folders:\n",
    "train_numpy_images = 'train_numpy_images'\n",
    "val_numpy_images = 'val_numpy_images'\n",
    "test_numpy_images = 'test_numpy_images'\n",
    "\n",
    "num_classes = 2  # 1 class (landslide) + background\n",
    "custom_means = [0.0] * 7  # Replace with your actual mean values\n",
    "custom_stds = [1.0] * 7   # Replace with your actual std values\n",
    "device = torch.device('cuda') if torch.cuda.is_available() else torch.device('cpu')\n",
    "\n",
    "# Load the model\n",
    "model = load_model(model_path, num_classes, custom_means, custom_stds, device)\n",
    "\n",
    "# Setup the test dataset and loader\n",
    "test_dataset = data_utils.MaskRCNNDataset(test_numpy_images, test_yolo_labels)  # Modify as per your dataset handling\n",
    "test_loader = DataLoader(test_dataset, batch_size=8, shuffle=False, collate_fn=data_utils.collate_fn)\n",
    "\n",
    "# Evaluate the model\n",
    "test_results = evaluate_model(model, test_loader, device)\n",
    "print(test_results)\n",
    "\n",
    "# Print the evaluation results\n",
    "print(\"Test Dataset Evaluation:\")\n",
    "# Calculate mean AP (mAP)\n",
    "mean_bbox_ap = np.mean(list(test_results['bbox_AP'].values()))\n",
    "mean_mask_ap = np.mean(list(test_results['mask_AP'].values()))\n",
    "\n",
    "print(\"Test Dataset Evaluation:\")\n",
    "print(f\" - Mean BBox AP: {mean_bbox_ap:.4f}\")\n",
    "print(f\" - BBox AP50: {test_results['bbox_AP50']:.4f}\")\n",
    "print(f\" - BBox AP75: {test_results['bbox_AP75']:.4f}\")\n",
    "print(f\" - Mean Mask AP: {mean_mask_ap:.4f}\")\n",
    "print(f\" - Mask AP50: {test_results['mask_AP50']:.4f}\")\n",
    "print(f\" - Mask AP75: {test_results['mask_AP75']:.4f}\")"
   ]
  }
 ],
 "metadata": {
  "kernelspec": {
   "display_name": "geek",
   "language": "python",
   "name": "python3"
  },
  "language_info": {
   "codemirror_mode": {
    "name": "ipython",
    "version": 3
   },
   "file_extension": ".py",
   "mimetype": "text/x-python",
   "name": "python",
   "nbconvert_exporter": "python",
   "pygments_lexer": "ipython3",
   "version": "3.9.16"
  }
 },
 "nbformat": 4,
 "nbformat_minor": 2
}
