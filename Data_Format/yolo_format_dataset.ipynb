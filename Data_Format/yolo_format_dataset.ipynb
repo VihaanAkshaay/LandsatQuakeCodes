{
 "cells": [
  {
   "cell_type": "markdown",
   "metadata": {},
   "source": [
    "# Notebook for band advantage analysis"
   ]
  },
  {
   "cell_type": "markdown",
   "metadata": {},
   "source": [
    "## Checking 6 bands:\n",
    "\n",
    "### Notes:\n",
    "B1 ->\n",
    "B2 ->\n",
    "B3 ->\n",
    "B4 ->\n",
    "B5 ->\n",
    "B6 ->"
   ]
  },
  {
   "cell_type": "code",
   "execution_count": 1,
   "metadata": {},
   "outputs": [],
   "source": [
    "# Dataset Paths:\n",
    "\n",
    "six_bands_path = '/Users/vihaan/Workspace/!Datasets/Processed_Data_S24/image_patches'\n",
    "six_bands_labels_path = '/Users/vihaan/Workspace/!Datasets/Processed_Data_S24/labels'"
   ]
  },
  {
   "cell_type": "code",
   "execution_count": null,
   "metadata": {},
   "outputs": [],
   "source": [
    "# Imports:\n",
    "import os\n",
    "import numpy as np\n",
    "import matplotlib.pyplot as plt"
   ]
  },
  {
   "cell_type": "code",
   "execution_count": 7,
   "metadata": {},
   "outputs": [
    {
     "name": "stdout",
     "output_type": "stream",
     "text": [
      "(6, 224, 224)\n",
      "(224, 224)\n"
     ]
    },
    {
     "data": {
      "image/png": "[encoded data removed]",
      "text/plain": [
       "<Figure size 432x288 with 1 Axes>"
      ]
     },
     "metadata": {
      "needs_background": "light"
     },
     "output_type": "display_data"
    },
    {
     "name": "stdout",
     "output_type": "stream",
     "text": [
      "7439\n",
      "11336\n"
     ]
    }
   ],
   "source": [
    "# Checking the path and reading the numpy array:\n",
    "\n",
    "\n",
    "# Checking the path and reading the numpy array:\n",
    "list_of_numpy_images = os.listdir(six_bands_path)\n",
    "list_of_numpy_labels = os.listdir(six_bands_labels_path)\n",
    "\n",
    "# Opening a random image (numpy array)\n",
    "random_image = np.load(six_bands_path + '/' + list_of_numpy_images[0])\n",
    "print(random_image.shape)\n",
    "\n",
    "# Reading the 6th band and plotting the histogram:\n",
    "sixth_band = random_image[5,:,:]\n",
    "print(sixth_band.shape)\n",
    "\n",
    "dummy_sixth_band = np.zeros(sixth_band.shape)\n",
    "\n",
    "plt.hist(sixth_band.flatten(), bins=50)\n",
    "plt.xlabel('Pixel Intensity')\n",
    "plt.ylabel('Frequency')\n",
    "plt.title('Histogram of 6th Band')\n",
    "plt.show()\n",
    "\n",
    "print(min(sixth_band.flatten()))\n",
    "print(max(sixth_band.flatten()))\n"
   ]
  },
  {
   "cell_type": "code",
   "execution_count": 8,
   "metadata": {},
   "outputs": [
    {
     "name": "stdout",
     "output_type": "stream",
     "text": [
      "(224, 224)\n"
     ]
    },
    {
     "data": {
      "image/png": "[encoded data removed]",
      "text/plain": [
       "<Figure size 432x288 with 1 Axes>"
      ]
     },
     "metadata": {
      "needs_background": "light"
     },
     "output_type": "display_data"
    }
   ],
   "source": [
    "# checking if I can replace the 6th band with a dummy band:\n",
    "random_image[5,:,:] = np.zeros(sixth_band.shape)\n",
    "\n",
    "# Checking the 6th band again:\n",
    "sixth_band = random_image[5,:,:]\n",
    "print(sixth_band.shape)\n",
    "\n",
    "plt.hist(sixth_band.flatten(), bins=50)\n",
    "plt.xlabel('Pixel Intensity')\n",
    "plt.ylabel('Frequency')\n",
    "plt.title('Histogram of 6th Band')\n",
    "plt.show()"
   ]
  },
  {
   "cell_type": "markdown",
   "metadata": {},
   "source": [
    "## 5 Band Prep"
   ]
  },
  {
   "cell_type": "code",
   "execution_count": 10,
   "metadata": {},
   "outputs": [],
   "source": [
    "# Path to save the new numpy (5 band) dataset:\n",
    "new_path = '/Users/vihaan/Workspace/!Datasets/Processed_Data_S24/image_patches_5band'\n",
    "\n",
    "# Creating the new folder if it doesnt exist:\n",
    "if not os.path.exists(new_path):\n",
    "    os.makedirs(new_path)\n",
    "\n",
    "# Iteratoing through the numpy files and saving the 5 band numpy arrays:\n",
    "for i in range(len(list_of_numpy_images)):\n",
    "    image = np.load(six_bands_path + '/' + list_of_numpy_images[i])\n",
    "    image[5,:,:] = np.zeros(image[5,:,:].shape)\n",
    "    np.save(new_path + '/' + list_of_numpy_images[i], image)"
   ]
  },
  {
   "cell_type": "code",
   "execution_count": 11,
   "metadata": {},
   "outputs": [
    {
     "name": "stdout",
     "output_type": "stream",
     "text": [
      "1088\n",
      "(6, 224, 224)\n"
     ]
    }
   ],
   "source": [
    "# Checking number of files in the new folder:\n",
    "list_of_new_numpy_images = os.listdir(new_path)\n",
    "print(len(list_of_new_numpy_images))\n",
    "\n",
    "# Checking the new numpy array:\n",
    "random_image = np.load(new_path + '/' + list_of_new_numpy_images[0])\n",
    "print(random_image.shape)"
   ]
  },
  {
   "cell_type": "markdown",
   "metadata": {},
   "source": [
    "# 4 Band Prep"
   ]
  },
  {
   "cell_type": "code",
   "execution_count": 12,
   "metadata": {},
   "outputs": [],
   "source": [
    "# Path to save the new numpy (4 band) dataset:\n",
    "new_path = '/Users/vihaan/Workspace/!Datasets/Processed_Data_S24/image_patches_4band'\n",
    "\n",
    "# Creating the new folder if it doesnt exist:\n",
    "if not os.path.exists(new_path):\n",
    "    os.makedirs(new_path)\n",
    "\n",
    "# Iteratoing through the numpy files and saving the 4 band numpy arrays:\n",
    "for i in range(len(list_of_numpy_images)):\n",
    "    image = np.load(six_bands_path + '/' + list_of_numpy_images[i])\n",
    "    # make the 6th band as zeros\n",
    "    image[5,:,:] = np.zeros(image[5,:,:].shape)\n",
    "    # make the 5th band as zeros\n",
    "    image[4,:,:] = np.zeros(image[4,:,:].shape)\n",
    "\n",
    "    np.save(new_path + '/' + list_of_numpy_images[i], image)"
   ]
  },
  {
   "cell_type": "code",
   "execution_count": 13,
   "metadata": {},
   "outputs": [
    {
     "name": "stdout",
     "output_type": "stream",
     "text": [
      "1088\n",
      "(6, 224, 224)\n"
     ]
    }
   ],
   "source": [
    "# Checking number of files in the new folder:\n",
    "list_of_new_numpy_images = os.listdir(new_path)\n",
    "print(len(list_of_new_numpy_images))\n",
    "\n",
    "# Checking the new numpy array:\n",
    "random_image = np.load(new_path + '/' + list_of_new_numpy_images[0])\n",
    "print(random_image.shape)"
   ]
  },
  {
   "cell_type": "markdown",
   "metadata": {},
   "source": [
    "# 3 Band Prep"
   ]
  },
  {
   "cell_type": "code",
   "execution_count": 14,
   "metadata": {},
   "outputs": [
    {
     "name": "stdout",
     "output_type": "stream",
     "text": [
      "1088\n",
      "(6, 224, 224)\n"
     ]
    }
   ],
   "source": [
    "# Path to save the new numpy (3 band) dataset:\n",
    "new_path = '/Users/vihaan/Workspace/!Datasets/Processed_Data_S24/image_patches_3band'\n",
    "\n",
    "# Creating the new folder if it doesnt exist:\n",
    "if not os.path.exists(new_path):\n",
    "    os.makedirs(new_path)\n",
    "\n",
    "# Iteratoing through the numpy files and saving the 3 band numpy arrays:\n",
    "for i in range(len(list_of_numpy_images)):\n",
    "    image = np.load(six_bands_path + '/' + list_of_numpy_images[i])\n",
    "    # make the 6th band as zeros\n",
    "    image[5,:,:] = np.zeros(image[5,:,:].shape)\n",
    "    # make the 5th band as zeros\n",
    "    image[4,:,:] = np.zeros(image[4,:,:].shape)\n",
    "    # make the 4th band as zeros\n",
    "    image[3,:,:] = np.zeros(image[3,:,:].shape)\n",
    "\n",
    "    np.save(new_path + '/' + list_of_numpy_images[i], image)\n",
    "\n",
    "# Checking number of files in the new folder:\n",
    "list_of_new_numpy_images = os.listdir(new_path)\n",
    "print(len(list_of_new_numpy_images))\n",
    "\n",
    "# Checking the new numpy array:\n",
    "random_image = np.load(new_path + '/' + list_of_new_numpy_images[0])\n",
    "print(random_image.shape)"
   ]
  },
  {
   "cell_type": "code",
   "execution_count": null,
   "metadata": {},
   "outputs": [],
   "source": []
  }
 ],
 "metadata": {
  "kernelspec": {
   "display_name": "geek",
   "language": "python",
   "name": "python3"
  },
  "language_info": {
   "codemirror_mode": {
    "name": "ipython",
    "version": 3
   },
   "file_extension": ".py",
   "mimetype": "text/x-python",
   "name": "python",
   "nbconvert_exporter": "python",
   "pygments_lexer": "ipython3",
   "version": "3.9.16"
  }
 },
 "nbformat": 4,
 "nbformat_minor": 2
}
