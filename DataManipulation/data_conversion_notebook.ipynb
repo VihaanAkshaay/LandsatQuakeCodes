{
 "cells": [
  {
   "cell_type": "code",
   "execution_count": 10,
   "metadata": {},
   "outputs": [],
   "source": [
    "# imports\n",
    "\n",
    "import os\n",
    "import data_utils\n",
    "\n",
    "# Detectron related imports\n",
    "# Setup detectron2 logger\n",
    "import detectron2\n",
    "from detectron2.utils.logger import setup_logger\n",
    "import matplotlib.pyplot as plt\n",
    "\n",
    "# import some common libraries\n",
    "import numpy as np\n",
    "import os, json, cv2, random\n",
    "\n",
    "# import some common detectron2 utilities\n",
    "from detectron2 import model_zoo\n",
    "from detectron2.engine import DefaultPredictor\n",
    "from detectron2.config import get_cfg\n",
    "from detectron2.utils.visualizer import Visualizer\n",
    "from detectron2.data import MetadataCatalog, DatasetCatalog\n",
    "\n",
    "from detectron2.structures import BoxMode\n"
   ]
  },
  {
   "cell_type": "code",
   "execution_count": 11,
   "metadata": {},
   "outputs": [],
   "source": [
    "# yolo data format (all images in one folder, all labels in one folder and no train val test split)\n",
    "\n",
    "yolo_images = './All_Datasets/filtered_ls_data/images'\n",
    "yolo_labels = './All_Datasets/filtered_ls_data/labels'\n",
    "\n",
    "datasets = 'All_Datasets'\n",
    "\n"
   ]
  },
  {
   "cell_type": "code",
   "execution_count": 12,
   "metadata": {},
   "outputs": [
    {
     "name": "stdout",
     "output_type": "stream",
     "text": [
      "(640, 640, 3)\n"
     ]
    }
   ],
   "source": [
    "# path to an image\n",
    "image_path = 'All_Datasets/filtered_ls_data/images/LT05_L1TP_130038_19860807_20170221_01_T1_patch_1920_5120.jpeg'\n",
    "label_path = 'All_Datasets/filtered_ls_data/labels/LT05_L1TP_130038_19860807_20170221_01_T1_patch_1920_5120.txt'\n",
    "\n",
    "# get the dimensions of the image\n",
    "print(data_utils.get_image_dimensions(image_path))"
   ]
  },
  {
   "cell_type": "code",
   "execution_count": 13,
   "metadata": {},
   "outputs": [
    {
     "name": "stdout",
     "output_type": "stream",
     "text": [
      "['LT05_L1TP_130039_19880202_20170221_01_T1_patch_4480_640', 'LT05_L1TP_129038_19860731_20170221_01_T1_patch_3200_640', 'LT05_L1TP_130038_19891205_20170214_01_T2_patch_3840_4480', 'LT05_L1TP_130038_19891205_20170214_01_T2_patch_3840_3200', 'LT05_L1TP_130039_19880202_20170221_01_T1_patch_4480_1280', 'LT05_L1TP_139041_20101230_20161011_01_T1_patch_3840_3200', 'LT05_L1TP_130038_20070918_20161111_01_T1_patch_5120_3200', 'LT05_L1TP_130038_20070918_20161111_01_T1_patch_1920_3840', 'LT05_L1TP_130038_20070918_20161111_01_T1_patch_5120_4480', 'LT05_L1TP_130038_19860807_20170221_01_T1_patch_4480_1920', 'LT05_L1TP_130038_20070918_20161111_01_T1_patch_2560_5120', 'LT05_L1TP_130038_20070918_20161111_01_T1_patch_3200_5120', 'LT05_L1TP_130038_20070918_20161111_01_T1_patch_3200_3200', 'LT05_L1TP_130038_20070918_20161111_01_T1_patch_3200_4480', 'LT05_L1TP_129038_19860731_20170221_01_T1_patch_1280_3200', 'LT05_L1TP_129038_19860731_20170221_01_T1_patch_1920_1920', 'LT05_L1TP_130038_20070918_20161111_01_T1_patch_2560_3200', 'LT05_L1TP_130038_20070918_20161111_01_T1_patch_2560_4480', 'LT05_L1TP_130038_19891205_20170214_01_T2_patch_3840_5120', 'LT05_L1TP_129038_20070506_20161115_01_T1_patch_1280_3840', 'LT05_L1TP_130039_19880202_20170221_01_T1_patch_3840_640', 'LT05_L1TP_145039_20001228_20161213_01_T1_patch_1920_3200', 'LT05_L1TP_130038_19870725_20170320_01_T1_patch_3840_3840', 'LT05_L1TP_130039_19880202_20170221_01_T1_patch_1920_1280', 'LT05_L1TP_130038_20070918_20161111_01_T1_patch_4480_3840', 'LT05_L1TP_130038_19860807_20170221_01_T1_patch_1280_4480', 'LT05_L1TP_130038_19891205_20170214_01_T2_patch_4480_1920', 'LT05_L1TP_130038_19870725_20170320_01_T1_patch_1280_3840', 'LT05_L1TP_130038_19870725_20170320_01_T1_patch_5120_1920', 'LT05_L1TP_130038_19870725_20170320_01_T1_patch_5760_3840', 'LT05_L1TP_129038_19870107_20170221_01_T1_patch_2560_640', 'LT05_L1TP_130039_20070918_20161111_01_T1_patch_1920_1280', 'LT05_L1TP_129038_19860731_20170221_01_T1_patch_1920_0', 'LT05_L1TP_129038_19870920_20170418_01_T1_patch_2560_1280', 'LT05_L1TP_145039_19970118_20170101_01_T1_patch_1280_2560', 'LT05_L1TP_130038_19860807_20170221_01_T1_patch_3840_3200', 'LT05_L1TP_130039_19870725_20170320_01_T1_patch_3840_1920', 'LT05_L1TP_130039_20070918_20161111_01_T1_patch_4480_1920', 'LT05_L1TP_130038_19891205_20170214_01_T2_patch_5760_3200', 'LT05_L1TP_130039_19880202_20170221_01_T1_patch_2560_640', 'LT05_L1TP_145039_19970118_20170101_01_T1_patch_2560_3200', 'LT05_L1TP_130039_19870725_20170320_01_T1_patch_3840_1280', 'LT05_L1TP_129038_19870107_20170221_01_T1_patch_1280_1280', 'LT05_L1TP_130038_19860807_20170221_01_T1_patch_3840_5120', 'LT05_L1TP_129038_19870107_20170221_01_T1_patch_640_4480', 'LT05_L1TP_129038_19870107_20170221_01_T1_patch_640_3200', 'LT05_L1TP_129038_19860731_20170221_01_T1_patch_1280_640', 'LT05_L1TP_130038_19870725_20170320_01_T1_patch_4480_2560', 'LT05_L1TP_130038_19870725_20170320_01_T1_patch_5120_1280', 'LT05_L1TP_130038_19860807_20170221_01_T1_patch_3840_3840', 'LT05_L1TP_129038_19870920_20170418_01_T1_patch_1920_1920', 'LT05_L1TP_130039_20070918_20161111_01_T1_patch_3200_1920', 'LT05_L1TP_130038_19870725_20170320_01_T1_patch_1280_3200', 'LT05_L1TP_129038_20070506_20161115_01_T1_patch_1280_640', 'LT05_L1TP_130038_19891205_20170214_01_T2_patch_4480_2560', 'LT05_L1TP_139041_20101230_20161011_01_T1_patch_4480_2560', 'LT05_L1TP_145039_19970118_20170101_01_T1_patch_1920_3200', 'LT05_L1TP_145039_19970118_20170101_01_T1_patch_1280_1920', 'LT05_L1TP_130039_20070918_20161111_01_T1_patch_3840_640', 'LT05_L1TP_129038_19870107_20170221_01_T1_patch_1920_640', 'LT05_L1TP_130038_19891205_20170214_01_T2_patch_5760_3840', 'LT05_L1TP_130038_19870725_20170320_01_T1_patch_4480_1920', 'LT05_L1TP_130038_19870725_20170320_01_T1_patch_3200_2560', 'LT05_L1TP_129038_19860731_20170221_01_T1_patch_2560_0', 'LT05_L1TP_130039_20070918_20161111_01_T1_patch_3200_1280', 'LT05_L1TP_130039_20070918_20161111_01_T1_patch_2560_1280', 'LT05_L1TP_129038_19870107_20170221_01_T1_patch_640_3840', 'LT05_L1TP_130039_19880202_20170221_01_T1_patch_3200_1280', 'LT05_L1TP_145039_20001228_20161213_01_T1_patch_2560_3200', 'LT05_L1TP_130038_19870725_20170320_01_T1_patch_3840_5120', 'LT05_L1TP_145039_20001228_20161213_01_T1_patch_3200_3200', 'LT05_L1TP_130039_19880202_20170221_01_T1_patch_2560_1280', 'LT05_L1TP_130038_20070918_20161111_01_T1_patch_4480_5120', 'LT05_L1TP_129038_20070506_20161115_01_T1_patch_1920_0', 'LT05_L1TP_130038_19860807_20170221_01_T1_patch_4480_2560', 'LT05_L1TP_130039_20070918_20161111_01_T1_patch_2560_640', 'LT05_L1TP_130038_20070918_20161111_01_T1_patch_5120_3840', 'LT05_L1TP_130038_20070918_20161111_01_T1_patch_1920_3200', 'LT05_L1TP_130038_20070918_20161111_01_T1_patch_1920_4480', 'LT05_L1TP_129038_19860731_20170221_01_T1_patch_2560_1920', 'LT05_L1TP_130038_19891205_20170214_01_T2_patch_3840_3840', 'LT05_L1TP_129038_20070506_20161115_01_T1_patch_1920_1280', 'LT05_L1TP_139041_20101230_20161011_01_T1_patch_3840_3840', 'LT05_L1TP_130038_20070918_20161111_01_T1_patch_2560_5760', 'LT05_L1TP_130038_20070918_20161111_01_T1_patch_3200_5760', 'LT05_L1TP_129038_19860731_20170221_01_T1_patch_1280_0', 'LT05_L1TP_129038_20070506_20161115_01_T1_patch_1280_3200', 'LT05_L1TP_129038_20070506_20161115_01_T1_patch_1280_4480', 'LT05_L1TP_145039_20001228_20161213_01_T1_patch_1280_2560', 'LT05_L1TP_130038_20070918_20161111_01_T1_patch_1920_5120', 'LT05_L1TP_129038_19860731_20170221_01_T1_patch_1280_3840', 'LT05_L1TP_130038_19891205_20170214_01_T2_patch_3840_5760', 'LT05_L1TP_129038_19860731_20170221_01_T1_patch_3200_1280', 'LT05_L1TP_130038_20070918_20161111_01_T1_patch_2560_3840', 'LT05_L1TP_130038_20070918_20161111_01_T1_patch_5760_1280', 'LT05_L1TP_130038_20070918_20161111_01_T1_patch_3200_3840', 'LT05_L1TP_129038_19860731_20170221_01_T1_patch_2560_1280', 'LT05_L1TP_130038_20070918_20161111_01_T1_patch_4480_3200', 'LT05_L1TP_130038_20070918_20161111_01_T1_patch_4480_4480', 'LT05_L1TP_130038_19860807_20170221_01_T1_patch_5120_1920', 'LT05_L1TP_130039_19880202_20170221_01_T1_patch_3200_1920', 'LT05_L1TP_130038_19870725_20170320_01_T1_patch_3840_3200', 'LT05_L1TP_130038_19870725_20170320_01_T1_patch_3840_4480', 'LT05_L1TP_130038_19891205_20170214_01_T2_patch_4480_5120', 'LT05_L1TP_130038_19870725_20170320_01_T1_patch_2560_3200', 'LT05_L1TP_129038_19870107_20170221_01_T1_patch_1920_0', 'LT05_L1TP_130038_19870725_20170320_01_T1_patch_3200_3200', 'LT05_L1TP_130039_19880202_20170221_01_T1_patch_3840_1920', 'LT05_L1TP_130039_20070918_20161111_01_T1_patch_3200_640', 'LT05_L1TP_130038_19891205_20170214_01_T2_patch_2560_5760', 'LT05_L1TP_130038_20070918_20161111_01_T1_patch_3840_3840', 'LT05_L1TP_129038_19860731_20170221_01_T1_patch_1920_640', 'LT05_L1TP_145039_19970118_20170101_01_T1_patch_2560_1920', 'LT05_L1TP_130038_19891205_20170214_01_T2_patch_3200_5760', 'LT05_L1TP_130038_19891205_20170214_01_T2_patch_5760_1920', 'LT05_L1TP_130038_19870725_20170320_01_T1_patch_4480_3840', 'LT05_L1TP_129038_20070506_20161115_01_T1_patch_640_4480', 'LT05_L1TP_130038_19891205_20170214_01_T2_patch_5120_3840', 'LT05_L1TP_129038_20070506_20161115_01_T1_patch_640_3200', 'LT05_L1TP_130038_19891205_20170214_01_T2_patch_1920_4480', 'LT05_L1TP_130038_19870725_20170320_01_T1_patch_5760_2560', 'LT05_L1TP_130038_19891205_20170214_01_T2_patch_2560_3840', 'LT05_L1TP_130038_19891205_20170214_01_T2_patch_5760_1280', 'LT05_L1TP_130038_19891205_20170214_01_T2_patch_1920_5120', 'LT05_L1TP_130038_20070918_20161111_01_T1_patch_3840_5760', 'LT05_L1TP_130038_19870725_20170320_01_T1_patch_6400_1920', 'LT05_L1TP_139041_20101230_20161011_01_T1_patch_3200_3840', 'LT05_L1TP_130038_19891205_20170214_01_T2_patch_3200_3840', 'LT05_L1TP_130038_19870725_20170320_01_T1_patch_1280_2560', 'LT05_L1TP_129038_20070506_20161115_01_T1_patch_2560_640', 'LT05_L1TP_145039_19970118_20170101_01_T1_patch_1920_2560', 'LT05_L1TP_129038_19860731_20170221_01_T1_patch_640_3840', 'LT05_L1TP_129038_19870107_20170221_01_T1_patch_1920_1920', 'LT05_L1TP_130038_19870725_20170320_01_T1_patch_3200_5120', 'LT05_L1TP_130038_19891205_20170214_01_T2_patch_4480_3200', 'LT05_L1TP_130038_19891205_20170214_01_T2_patch_4480_4480', 'LT05_L1TP_130039_19880202_20170221_01_T1_patch_3840_1280', 'LT05_L1TP_139041_20101230_20161011_01_T1_patch_4480_3200', 'LT05_L1TP_130038_19870725_20170320_01_T1_patch_5120_3200', 'LT05_L1TP_130039_19870725_20170320_01_T1_patch_4480_1280', 'LT05_L1TP_129038_19870920_20170418_01_T1_patch_640_3840', 'LT05_L1TP_130038_19860807_20170221_01_T1_patch_1920_4480', 'LT05_L1TP_129038_20070506_20161115_01_T1_patch_1280_2560', 'LT05_L1TP_130039_20070918_20161111_01_T1_patch_3840_1280', 'LT05_L1TP_130038_19870725_20170320_01_T1_patch_3840_2560', 'LT05_L1TP_129038_19860731_20170221_01_T1_patch_1280_1920', 'LT05_L1TP_130038_20070918_20161111_01_T1_patch_4480_2560', 'LT05_L1TP_130039_19870725_20170320_01_T1_patch_1920_1280', 'LT05_L1TP_129038_19860731_20170221_01_T1_patch_1280_1280', 'LT05_L1TP_130038_20070918_20161111_01_T1_patch_5760_3840', 'LT05_L1TP_130038_20070918_20161111_01_T1_patch_1280_3840', 'LT05_L1TP_130038_19860807_20170221_01_T1_patch_4480_3200', 'LT05_L1TP_145039_20001228_20161213_01_T1_patch_2560_2560', 'LT05_L1TP_145039_20001228_20161213_01_T1_patch_3200_2560', 'LT05_L1TP_130039_20070918_20161111_01_T1_patch_3840_1920', 'LT05_L1TP_130038_19860807_20170221_01_T1_patch_2560_3840', 'LT05_L1TP_130039_19870725_20170320_01_T1_patch_4480_1920', 'LT05_L1TP_130038_19860807_20170221_01_T1_patch_1920_5120', 'LT05_L1TP_130038_20070918_20161111_01_T1_patch_1920_2560', 'LT05_L1TP_130038_19860807_20170221_01_T1_patch_3200_3840', 'LT05_L1TP_130038_19870725_20170320_01_T1_patch_3840_1920', 'LT05_L1TP_129038_19870920_20170418_01_T1_patch_640_3200', 'LT05_L1TP_130038_19860807_20170221_01_T1_patch_2560_5120', 'LT05_L1TP_129038_19870920_20170418_01_T1_patch_640_4480', 'LT05_L1TP_130038_20070918_20161111_01_T1_patch_3200_2560', 'LT05_L1TP_130038_20070918_20161111_01_T1_patch_4480_1920', 'LT05_L1TP_130038_19860807_20170221_01_T1_patch_5120_3200', 'LT05_L1TP_130038_19860807_20170221_01_T1_patch_1920_3840', 'LT05_L1TP_129038_19860731_20170221_01_T1_patch_1280_2560', 'LT05_L1TP_130039_19870725_20170320_01_T1_patch_2560_1280', 'LT05_L1TP_130038_20070918_20161111_01_T1_patch_1280_5120', 'LT05_L1TP_145039_20001228_20161213_01_T1_patch_1920_2560', 'LT05_L1TP_129038_20070506_20161115_01_T1_patch_1280_1920', 'LT05_L1TP_129038_19870107_20170221_01_T1_patch_3200_640', 'LT05_L1TP_129038_20070506_20161115_01_T1_patch_1280_1280', 'LT05_L1TP_130038_20070918_20161111_01_T1_patch_1280_4480', 'LT05_L1TP_130038_19860807_20170221_01_T1_patch_4480_3840', 'LT05_L1TP_130039_19870725_20170320_01_T1_patch_3200_1920', 'LT05_L1TP_130038_20070918_20161111_01_T1_patch_5760_3200', 'LT05_L1TP_129038_19870107_20170221_01_T1_patch_1280_0', 'LT05_L1TP_130038_19860807_20170221_01_T1_patch_2560_4480', 'LT05_L1TP_130039_19870725_20170320_01_T1_patch_2560_640', 'LT05_L1TP_130038_19860807_20170221_01_T1_patch_2560_3200', 'LT05_L1TP_130039_19880202_20170221_01_T1_patch_3200_640', 'LT05_L1TP_139041_20101230_20161011_01_T1_patch_3840_2560', 'LT05_L1TP_145039_19970118_20170101_01_T1_patch_2560_2560', 'LT05_L1TP_145039_19970118_20170101_01_T1_patch_3200_2560', 'LT05_L1TP_130038_19891205_20170214_01_T2_patch_6400_1920', 'LT05_L1TP_129038_19860731_20170221_01_T1_patch_2560_640', 'LT05_L1TP_130038_19870725_20170320_01_T1_patch_3200_3840', 'LT05_L1TP_130038_19891205_20170214_01_T2_patch_5760_2560', 'LT05_L1TP_130038_19870725_20170320_01_T1_patch_5760_1280', 'LT05_L1TP_130038_19870725_20170320_01_T1_patch_4480_4480', 'LT05_L1TP_130038_19891205_20170214_01_T2_patch_2560_5120', 'LT05_L1TP_130039_19870725_20170320_01_T1_patch_4480_640', 'LT05_L1TP_130038_19870725_20170320_01_T1_patch_4480_3200', 'LT05_L1TP_130038_19891205_20170214_01_T2_patch_5120_3200', 'LT05_L1TP_130038_19891205_20170214_01_T2_patch_1920_3840', 'LT05_L1TP_129038_20070506_20161115_01_T1_patch_640_3840', 'LT05_L1TP_130038_19891205_20170214_01_T2_patch_5120_4480', 'LT05_L1TP_130038_19891205_20170214_01_T2_patch_3200_5120', 'LT05_L1TP_130038_20070918_20161111_01_T1_patch_3840_4480', 'LT05_L1TP_130038_20070918_20161111_01_T1_patch_3840_3200', 'LT05_L1TP_130038_20070918_20161111_01_T1_patch_3840_5120', 'LT05_L1TP_139041_20101230_20161011_01_T1_patch_3200_3200', 'LT05_L1TP_130038_19891205_20170214_01_T2_patch_3200_3200', 'LT05_L1TP_130038_19891205_20170214_01_T2_patch_3200_4480', 'LT05_L1TP_130038_19891205_20170214_01_T2_patch_2560_3200', 'LT05_L1TP_130038_19891205_20170214_01_T2_patch_2560_4480', 'LT05_L1TP_130038_19891205_20170214_01_T2_patch_4480_3840', 'LT05_L1TP_129038_20070506_20161115_01_T1_patch_1920_640', 'LT05_L1TP_130038_19891205_20170214_01_T2_patch_6400_1280', 'LT05_L1TP_130038_19870725_20170320_01_T1_patch_5760_1920', 'LT05_L1TP_130038_19870725_20170320_01_T1_patch_3200_5760', 'LT05_L1TP_130039_19870725_20170320_01_T1_patch_3840_640', 'LT05_L1TP_130038_19870725_20170320_01_T1_patch_2560_5760', 'LT05_L1TP_129038_19860731_20170221_01_T1_patch_640_3200', 'LT05_L1TP_129038_19870107_20170221_01_T1_patch_1280_640', 'LT05_L1TP_129038_19870107_20170221_01_T1_patch_2560_1280']\n",
      "['LT05_L1TP_130039_19880202_20170221_01_T1_patch_3840_640', 'LT05_L1TP_139041_20101230_20161011_01_T1_patch_3840_3840', 'LT05_L1TP_130039_19880202_20170221_01_T1_patch_2560_640', 'LT05_L1TP_130039_20070918_20161111_01_T1_patch_2560_1280', 'LT05_L1TP_145039_20001228_20161213_01_T1_patch_3200_3200', 'LT05_L1TP_130038_20070918_20161111_01_T1_patch_1920_4480', 'LT05_L1TP_130038_19870725_20170320_01_T1_patch_5120_1920', 'LT05_L1TP_130038_20070918_20161111_01_T1_patch_2560_3200', 'LT05_L1TP_129038_20070506_20161115_01_T1_patch_1920_0', 'LT05_L1TP_130038_20070918_20161111_01_T1_patch_5760_1280', 'LT05_L1TP_129038_19860731_20170221_01_T1_patch_1280_640', 'LT05_L1TP_130038_20070918_20161111_01_T1_patch_1280_5120', 'LT05_L1TP_129038_19870920_20170418_01_T1_patch_1920_1920', 'LT05_L1TP_130038_19891205_20170214_01_T2_patch_1920_4480', 'LT05_L1TP_130038_19891205_20170214_01_T2_patch_5760_2560', 'LT05_L1TP_130039_20070918_20161111_01_T1_patch_3200_640', 'LT05_L1TP_130038_19891205_20170214_01_T2_patch_2560_3200', 'LT05_L1TP_130038_19870725_20170320_01_T1_patch_3200_3840', 'LT05_L1TP_130038_19891205_20170214_01_T2_patch_5760_1280', 'LT05_L1TP_130038_19860807_20170221_01_T1_patch_2560_3840', 'LT05_L1TP_130038_19860807_20170221_01_T1_patch_4480_1920', 'LT05_L1TP_129038_19860731_20170221_01_T1_patch_1920_0', 'LT05_L1TP_130038_19870725_20170320_01_T1_patch_3840_2560', 'LT05_L1TP_129038_19860731_20170221_01_T1_patch_1920_640', 'LT05_L1TP_130039_20070918_20161111_01_T1_patch_3840_1280', 'LT05_L1TP_130038_19891205_20170214_01_T2_patch_4480_3200', 'LT05_L1TP_129038_20070506_20161115_01_T1_patch_1280_2560', 'LT05_L1TP_130038_20070918_20161111_01_T1_patch_1920_3840', 'LT05_L1TP_130038_19891205_20170214_01_T2_patch_3200_5120', 'LT05_L1TP_130039_20070918_20161111_01_T1_patch_3200_1920', 'LT05_L1TP_130038_19870725_20170320_01_T1_patch_1280_3840', 'LT05_L1TP_129038_20070506_20161115_01_T1_patch_1280_1280', 'LT05_L1TP_130038_20070918_20161111_01_T1_patch_3840_3200', 'LT05_L1TP_129038_20070506_20161115_01_T1_patch_640_3200', 'LT05_L1TP_129038_19860731_20170221_01_T1_patch_1920_1920', 'LT05_L1TP_130038_19860807_20170221_01_T1_patch_4480_3840', 'LT05_L1TP_129038_19860731_20170221_01_T1_patch_2560_0', 'LT05_L1TP_130039_19880202_20170221_01_T1_patch_1920_1280', 'LT05_L1TP_130038_19860807_20170221_01_T1_patch_2560_4480', 'LT05_L1TP_129038_19860731_20170221_01_T1_patch_1280_0', 'LT05_L1TP_130038_19891205_20170214_01_T2_patch_3840_3200', 'LT05_L1TP_130038_19870725_20170320_01_T1_patch_3200_5760', 'LT05_L1TP_130038_19870725_20170320_01_T1_patch_4480_2560', 'LT05_L1TP_145039_19970118_20170101_01_T1_patch_1920_2560', 'LT05_L1TP_130038_19860807_20170221_01_T1_patch_3840_3840', 'LT05_L1TP_129038_19870107_20170221_01_T1_patch_2560_640', 'LT05_L1TP_145039_20001228_20161213_01_T1_patch_1920_2560', 'LT05_L1TP_130038_20070918_20161111_01_T1_patch_4480_3200', 'LT05_L1TP_130038_20070918_20161111_01_T1_patch_3200_5120', 'LT05_L1TP_130038_19891205_20170214_01_T2_patch_1920_3840', 'LT05_L1TP_130038_20070918_20161111_01_T1_patch_3840_4480', 'LT05_L1TP_129038_20070506_20161115_01_T1_patch_640_4480', 'LT05_L1TP_130038_19870725_20170320_01_T1_patch_5760_3840', 'LT05_L1TP_139041_20101230_20161011_01_T1_patch_3840_3200', 'LT05_L1TP_130038_19870725_20170320_01_T1_patch_3840_5120', 'LT05_L1TP_145039_19970118_20170101_01_T1_patch_1280_1920', 'LT05_L1TP_129038_19860731_20170221_01_T1_patch_2560_1920', 'LT05_L1TP_130038_20070918_20161111_01_T1_patch_2560_3840', 'LT05_L1TP_130038_20070918_20161111_01_T1_patch_4480_1920', 'LT05_L1TP_129038_19860731_20170221_01_T1_patch_2560_640', 'LT05_L1TP_130039_19870725_20170320_01_T1_patch_4480_1920', 'LT05_L1TP_130038_19891205_20170214_01_T2_patch_4480_4480', 'LT05_L1TP_129038_19870107_20170221_01_T1_patch_2560_1280', 'LT05_L1TP_130038_20070918_20161111_01_T1_patch_3840_5760', 'LT05_L1TP_129038_19870107_20170221_01_T1_patch_1920_640', 'LT05_L1TP_145039_20001228_20161213_01_T1_patch_2560_2560', 'LT05_L1TP_130038_19891205_20170214_01_T2_patch_4480_1920', 'LT05_L1TP_139041_20101230_20161011_01_T1_patch_4480_3200', 'LT05_L1TP_130038_19891205_20170214_01_T2_patch_2560_3840', 'LT05_L1TP_130038_19870725_20170320_01_T1_patch_3200_3200', 'LT05_L1TP_130038_19891205_20170214_01_T2_patch_3840_5760', 'LT05_L1TP_129038_19860731_20170221_01_T1_patch_1280_2560', 'LT05_L1TP_145039_19970118_20170101_01_T1_patch_2560_2560', 'LT05_L1TP_130038_20070918_20161111_01_T1_patch_4480_4480', 'LT05_L1TP_129038_19860731_20170221_01_T1_patch_1280_1280', 'LT05_L1TP_129038_19870107_20170221_01_T1_patch_1280_0', 'LT05_L1TP_130038_19860807_20170221_01_T1_patch_2560_3200', 'LT05_L1TP_130038_19891205_20170214_01_T2_patch_3840_4480', 'LT05_L1TP_130038_20070918_20161111_01_T1_patch_3200_2560', 'LT05_L1TP_130039_19880202_20170221_01_T1_patch_2560_1280', 'LT05_L1TP_130038_19860807_20170221_01_T1_patch_1920_4480', 'LT05_L1TP_130039_19880202_20170221_01_T1_patch_4480_640', 'LT05_L1TP_130039_19870725_20170320_01_T1_patch_3840_1920', 'LT05_L1TP_130038_20070918_20161111_01_T1_patch_1920_3200', 'LT05_L1TP_130038_19891205_20170214_01_T2_patch_6400_1920', 'LT05_L1TP_130038_19891205_20170214_01_T2_patch_4480_3840', 'LT05_L1TP_130038_19870725_20170320_01_T1_patch_1280_3200', 'LT05_L1TP_130038_20070918_20161111_01_T1_patch_2560_4480', 'LT05_L1TP_129038_19860731_20170221_01_T1_patch_3200_1280', 'LT05_L1TP_130038_20070918_20161111_01_T1_patch_2560_5760', 'LT05_L1TP_130038_19860807_20170221_01_T1_patch_4480_3200', 'LT05_L1TP_130039_20070918_20161111_01_T1_patch_1920_1280', 'LT05_L1TP_129038_20070506_20161115_01_T1_patch_640_3840', 'LT05_L1TP_130038_20070918_20161111_01_T1_patch_3840_3840', 'LT05_L1TP_130039_19880202_20170221_01_T1_patch_4480_1280', 'LT05_L1TP_130038_19860807_20170221_01_T1_patch_1920_3840', 'LT05_L1TP_130038_19891205_20170214_01_T2_patch_2560_5760', 'LT05_L1TP_130038_19870725_20170320_01_T1_patch_5760_1920', 'LT05_L1TP_129038_19870107_20170221_01_T1_patch_1920_0', 'LT05_L1TP_130038_19891205_20170214_01_T2_patch_3840_3840', 'LT05_L1TP_130039_19880202_20170221_01_T1_patch_3840_1280', 'LT05_L1TP_130038_20070918_20161111_01_T1_patch_4480_3840', 'LT05_L1TP_129038_19870107_20170221_01_T1_patch_1280_640', 'LT05_L1TP_130038_19870725_20170320_01_T1_patch_5120_3200', 'LT05_L1TP_130038_19860807_20170221_01_T1_patch_3840_3200', 'LT05_L1TP_130039_19880202_20170221_01_T1_patch_3200_1920', 'LT05_L1TP_130038_19891205_20170214_01_T2_patch_2560_4480', 'LT05_L1TP_130039_19870725_20170320_01_T1_patch_4480_640', 'LT05_L1TP_145039_19970118_20170101_01_T1_patch_1920_3200', 'LT05_L1TP_130038_20070918_20161111_01_T1_patch_4480_2560', 'LT05_L1TP_130038_20070918_20161111_01_T1_patch_3200_5760', 'LT05_L1TP_130038_19860807_20170221_01_T1_patch_2560_5120', 'LT05_L1TP_130039_19870725_20170320_01_T1_patch_4480_1280', 'LT05_L1TP_145039_20001228_20161213_01_T1_patch_1920_3200', 'LT05_L1TP_130038_20070918_20161111_01_T1_patch_3200_4480', 'LT05_L1TP_145039_19970118_20170101_01_T1_patch_1280_2560', 'LT05_L1TP_130038_20070918_20161111_01_T1_patch_5120_3840', 'LT05_L1TP_129038_19860731_20170221_01_T1_patch_2560_1280', 'LT05_L1TP_130038_19870725_20170320_01_T1_patch_3200_5120', 'LT05_L1TP_145039_20001228_20161213_01_T1_patch_1280_2560', 'LT05_L1TP_139041_20101230_20161011_01_T1_patch_3200_3200', 'LT05_L1TP_130038_19870725_20170320_01_T1_patch_4480_3200', 'LT05_L1TP_130039_19870725_20170320_01_T1_patch_3840_1280', 'LT05_L1TP_130038_19891205_20170214_01_T2_patch_5120_3840', 'LT05_L1TP_129038_19870107_20170221_01_T1_patch_1280_1280', 'LT05_L1TP_130038_19891205_20170214_01_T2_patch_3200_4480', 'LT05_L1TP_129038_19870107_20170221_01_T1_patch_3200_640', 'LT05_L1TP_130039_19870725_20170320_01_T1_patch_3200_1920', 'LT05_L1TP_130038_20070918_20161111_01_T1_patch_1280_3840', 'LT05_L1TP_129038_20070506_20161115_01_T1_patch_1920_1280', 'LT05_L1TP_129038_19870920_20170418_01_T1_patch_640_3840', 'LT05_L1TP_130038_19860807_20170221_01_T1_patch_5120_3200', 'LT05_L1TP_129038_19860731_20170221_01_T1_patch_1280_1920', 'LT05_L1TP_145039_19970118_20170101_01_T1_patch_2560_1920', 'LT05_L1TP_130038_19870725_20170320_01_T1_patch_3840_3200', 'LT05_L1TP_129038_19860731_20170221_01_T1_patch_640_3840', 'LT05_L1TP_130038_19891205_20170214_01_T2_patch_3200_5760', 'LT05_L1TP_129038_20070506_20161115_01_T1_patch_1280_3200', 'LT05_L1TP_130038_19891205_20170214_01_T2_patch_4480_2560', 'LT05_L1TP_130038_19860807_20170221_01_T1_patch_3840_5120', 'LT05_L1TP_130038_20070918_20161111_01_T1_patch_3200_3840', 'LT05_L1TP_130038_19891205_20170214_01_T2_patch_1920_5120', 'LT05_L1TP_130038_20070918_20161111_01_T1_patch_5120_4480', 'LT05_L1TP_129038_19870107_20170221_01_T1_patch_640_3200', 'LT05_L1TP_129038_19860731_20170221_01_T1_patch_1280_3840', 'LT05_L1TP_130039_19880202_20170221_01_T1_patch_3200_640', 'LT05_L1TP_130038_19891205_20170214_01_T2_patch_6400_1280', 'LT05_L1TP_130038_19891205_20170214_01_T2_patch_5760_3200', 'LT05_L1TP_130039_19880202_20170221_01_T1_patch_3200_1280', 'LT05_L1TP_129038_19870920_20170418_01_T1_patch_2560_1280', 'LT05_L1TP_130039_19870725_20170320_01_T1_patch_2560_1280', 'LT05_L1TP_130038_20070918_20161111_01_T1_patch_5760_3200', 'LT05_L1TP_130039_19880202_20170221_01_T1_patch_3840_1920', 'LT05_L1TP_130039_20070918_20161111_01_T1_patch_3840_640', 'LT05_L1TP_145039_19970118_20170101_01_T1_patch_3200_2560', 'LT05_L1TP_130038_20070918_20161111_01_T1_patch_1280_4480', 'LT05_L1TP_129038_19870920_20170418_01_T1_patch_640_4480', 'LT05_L1TP_129038_20070506_20161115_01_T1_patch_2560_640', 'LT05_L1TP_130039_20070918_20161111_01_T1_patch_2560_640', 'LT05_L1TP_145039_20001228_20161213_01_T1_patch_3200_2560', 'LT05_L1TP_130038_19891205_20170214_01_T2_patch_5120_4480', 'LT05_L1TP_130038_19870725_20170320_01_T1_patch_5760_2560', 'LT05_L1TP_130038_19870725_20170320_01_T1_patch_5760_1280', 'LT05_L1TP_130038_20070918_20161111_01_T1_patch_1920_5120', 'LT05_L1TP_130038_19870725_20170320_01_T1_patch_2560_3200', 'LT05_L1TP_130038_19891205_20170214_01_T2_patch_3200_3840', 'LT05_L1TP_129038_19870107_20170221_01_T1_patch_640_4480', 'LT05_L1TP_130038_19870725_20170320_01_T1_patch_5120_1280', 'LT05_L1TP_130038_19870725_20170320_01_T1_patch_4480_3840', 'LT05_L1TP_130038_19870725_20170320_01_T1_patch_6400_1920', 'LT05_L1TP_139041_20101230_20161011_01_T1_patch_3200_3840', 'LT05_L1TP_130038_19891205_20170214_01_T2_patch_2560_5120', 'LT05_L1TP_130038_20070918_20161111_01_T1_patch_5120_3200', 'LT05_L1TP_130038_19860807_20170221_01_T1_patch_4480_2560', 'LT05_L1TP_129038_20070506_20161115_01_T1_patch_1920_640', 'LT05_L1TP_129038_19870920_20170418_01_T1_patch_640_3200', 'LT05_L1TP_130038_20070918_20161111_01_T1_patch_2560_5120', 'LT05_L1TP_130038_19891205_20170214_01_T2_patch_5120_3200', 'LT05_L1TP_130039_19870725_20170320_01_T1_patch_1920_1280', 'LT05_L1TP_130039_19870725_20170320_01_T1_patch_2560_640', 'LT05_L1TP_130038_19870725_20170320_01_T1_patch_1280_2560', 'LT05_L1TP_130038_19870725_20170320_01_T1_patch_2560_5760', 'LT05_L1TP_129038_19860731_20170221_01_T1_patch_640_3200', 'LT05_L1TP_130038_19891205_20170214_01_T2_patch_5760_1920', 'LT05_L1TP_130038_20070918_20161111_01_T1_patch_1920_2560', 'LT05_L1TP_129038_20070506_20161115_01_T1_patch_1280_3840', 'LT05_L1TP_130039_19870725_20170320_01_T1_patch_3840_640', 'LT05_L1TP_130038_19870725_20170320_01_T1_patch_3840_3840', 'LT05_L1TP_130038_20070918_20161111_01_T1_patch_3200_3200', 'LT05_L1TP_130038_20070918_20161111_01_T1_patch_4480_5120', 'LT05_L1TP_129038_19860731_20170221_01_T1_patch_3200_640', 'LT05_L1TP_130038_19870725_20170320_01_T1_patch_4480_4480', 'LT05_L1TP_130038_19870725_20170320_01_T1_patch_3200_2560', 'LT05_L1TP_139041_20101230_20161011_01_T1_patch_4480_2560', 'LT05_L1TP_130038_19860807_20170221_01_T1_patch_1920_5120', 'LT05_L1TP_130038_19891205_20170214_01_T2_patch_5760_3840', 'LT05_L1TP_130039_20070918_20161111_01_T1_patch_3200_1280', 'LT05_L1TP_145039_20001228_20161213_01_T1_patch_2560_3200', 'LT05_L1TP_129038_20070506_20161115_01_T1_patch_1280_1920', 'LT05_L1TP_129038_19870107_20170221_01_T1_patch_1920_1920', 'LT05_L1TP_130038_19891205_20170214_01_T2_patch_3840_5120', 'LT05_L1TP_129038_19870107_20170221_01_T1_patch_640_3840', 'LT05_L1TP_130038_19860807_20170221_01_T1_patch_1280_4480', 'LT05_L1TP_130038_19870725_20170320_01_T1_patch_3840_1920', 'LT05_L1TP_130039_20070918_20161111_01_T1_patch_3840_1920', 'LT05_L1TP_130038_19860807_20170221_01_T1_patch_5120_1920', 'LT05_L1TP_145039_19970118_20170101_01_T1_patch_2560_3200', 'LT05_L1TP_129038_19860731_20170221_01_T1_patch_1280_3200', 'LT05_L1TP_130038_19860807_20170221_01_T1_patch_3200_3840', 'LT05_L1TP_130038_20070918_20161111_01_T1_patch_5760_3840', 'LT05_L1TP_130038_19870725_20170320_01_T1_patch_3840_4480', 'LT05_L1TP_129038_20070506_20161115_01_T1_patch_1280_4480', 'LT05_L1TP_130038_20070918_20161111_01_T1_patch_3840_5120', 'LT05_L1TP_130038_19870725_20170320_01_T1_patch_4480_1920', 'LT05_L1TP_130039_20070918_20161111_01_T1_patch_4480_1920', 'LT05_L1TP_130038_19891205_20170214_01_T2_patch_3200_3200', 'LT05_L1TP_130038_19891205_20170214_01_T2_patch_4480_5120', 'LT05_L1TP_129038_20070506_20161115_01_T1_patch_1280_640', 'LT05_L1TP_139041_20101230_20161011_01_T1_patch_3840_2560']\n",
      "All images have labels\n"
     ]
    },
    {
     "ename": "NameError",
     "evalue": "name 'filename' is not defined",
     "output_type": "error",
     "traceback": [
      "\u001b[0;31m---------------------------------------------------------------------------\u001b[0m",
      "\u001b[0;31mNameError\u001b[0m                                 Traceback (most recent call last)",
      "Input \u001b[0;32mIn [13]\u001b[0m, in \u001b[0;36m<cell line: 21>\u001b[0;34m()\u001b[0m\n\u001b[1;32m     16\u001b[0m     \u001b[38;5;28mprint\u001b[39m(\u001b[38;5;124m'\u001b[39m\u001b[38;5;124mSome images do not have labels\u001b[39m\u001b[38;5;124m'\u001b[39m)\n\u001b[1;32m     20\u001b[0m \u001b[38;5;66;03m# Obtain one label to check the format\u001b[39;00m\n\u001b[0;32m---> 21\u001b[0m \u001b[38;5;28;01mwith\u001b[39;00m \u001b[38;5;28mopen\u001b[39m(os\u001b[38;5;241m.\u001b[39mpath\u001b[38;5;241m.\u001b[39mjoin(label_dir, \u001b[43mfilename\u001b[49m\u001b[38;5;241m.\u001b[39msplit(\u001b[38;5;124m'\u001b[39m\u001b[38;5;124m.\u001b[39m\u001b[38;5;124m'\u001b[39m)[\u001b[38;5;241m0\u001b[39m] \u001b[38;5;241m+\u001b[39m \u001b[38;5;124m'\u001b[39m\u001b[38;5;124m.txt\u001b[39m\u001b[38;5;124m'\u001b[39m)) \u001b[38;5;28;01mas\u001b[39;00m f:\n\u001b[1;32m     22\u001b[0m     labels \u001b[38;5;241m=\u001b[39m [line\u001b[38;5;241m.\u001b[39mrstrip(\u001b[38;5;124m'\u001b[39m\u001b[38;5;130;01m\\n\u001b[39;00m\u001b[38;5;124m'\u001b[39m) \u001b[38;5;28;01mfor\u001b[39;00m line \u001b[38;5;129;01min\u001b[39;00m \u001b[38;5;28mopen\u001b[39m(os\u001b[38;5;241m.\u001b[39mpath\u001b[38;5;241m.\u001b[39mjoin(label_dir, filename\u001b[38;5;241m.\u001b[39msplit(\u001b[38;5;124m'\u001b[39m\u001b[38;5;124m.\u001b[39m\u001b[38;5;124m'\u001b[39m)[\u001b[38;5;241m0\u001b[39m] \u001b[38;5;241m+\u001b[39m \u001b[38;5;124m'\u001b[39m\u001b[38;5;124m.txt\u001b[39m\u001b[38;5;124m'\u001b[39m))]\n\u001b[1;32m     24\u001b[0m \u001b[38;5;66;03m#split label string into list of floats\u001b[39;00m\n",
      "\u001b[0;31mNameError\u001b[0m: name 'filename' is not defined"
     ]
    }
   ],
   "source": [
    "\n",
    "# get the list of images and labels\n",
    "images = os.listdir(yolo_images)\n",
    "labels = os.listdir(yolo_labels)\n",
    "# get the list of image ids\n",
    "image_ids = [image.split('.')[0] for image in images]\n",
    "# get the list of label ids\n",
    "label_ids = [label.split('.')[0] for label in labels]\n",
    "\n",
    "print(image_ids)\n",
    "print(label_ids)\n",
    "\n",
    "# check if all the images have labels\n",
    "if set(image_ids) == set(label_ids):\n",
    "    print('All images have labels')\n",
    "else:\n",
    "    print('Some images do not have labels')\n",
    "\n",
    "\n",
    "    \n",
    "# Obtain one label to check the format\n",
    "with open(os.path.join(label_dir, filename.split('.')[0] + '.txt')) as f:\n",
    "    labels = [line.rstrip('\\n') for line in open(os.path.join(label_dir, filename.split('.')[0] + '.txt'))]\n",
    "\n",
    "#split label string into list of floats\n",
    "label_float= list(map(float, labels[0].split()))\n",
    "\n",
    "print(label_float[1:])"
   ]
  },
  {
   "cell_type": "code",
   "execution_count": 14,
   "metadata": {},
   "outputs": [],
   "source": [
    "# get path to the image\n",
    "img_dir = 'All_Datasets/filtered_ls_data/images'\n",
    "label_dir = 'All_Datasets/filtered_ls_data/labels'\n",
    "\n",
    "def convert_yolo_to_detectron2_coco(img_dir, label_dir):\n",
    "\n",
    "    # get the list of images\n",
    "    images = os.listdir(img_dir)\n",
    "    # get the list of labels\n",
    "    labels = os.listdir(label_dir)\n",
    "\n",
    "    # Final dataset dicts - what should be returned\n",
    "    dataset_dicts = []\n",
    "\n",
    "    # image iterator:\n",
    "    for i in range(len(images)):\n",
    "\n",
    "        # deal with one image at a time:        \n",
    "        record = {}\n",
    "        objs = [] # Corresponding to the annotations/instances of objects in the image; list[float] is one simple polygon\n",
    "        filename = images[i]\n",
    "        height, width, _ = data_utils.get_image_dimensions(os.path.join(img_dir, filename))\n",
    "\n",
    "        # Load labels\n",
    "        with open(os.path.join(label_dir, filename.split('.')[0] + '.txt')) as f:\n",
    "            labels = [line.rstrip('\\n') for line in open(os.path.join(label_dir, filename.split('.')[0] + '.txt'))]\n",
    "\n",
    "        # iterate through the labels\n",
    "        for label in labels:\n",
    "\n",
    "            # get the class id:\n",
    "            class_id = int(label.split(' ')[0])\n",
    "\n",
    "            # Converting string labels list to floats\n",
    "            label_float= list(map(float, label.split()))\n",
    "            flat_coordinates = label_float[1:]\n",
    "\n",
    "            # Obtaining the polygon coordinates:\n",
    "            poly = [] #list[float] is one simple polygon in the format of [x1, y1, ..., xn, yn] (n≥3). The Xs and Ys are absolute coordinates in unit of pixels.\n",
    "\n",
    "            # Scaling up the coordinates to x_scale and y_scale to add to the polygon\n",
    "            for i in range(len(flat_coordinates)):\n",
    "\n",
    "                # x values\n",
    "                if i % 2 == 0:\n",
    "                    poly.append(flat_coordinates[i] * width) # Append to the polygon\n",
    "\n",
    "                # y values\n",
    "                else:\n",
    "                    poly.append(flat_coordinates[i] * height) # Append to the polygon\n",
    "\n",
    "            obj = {\n",
    "                \"bbox\": data_utils.get_bounding_box_from_yolo_label(flat_coordinates),\n",
    "                \"bbox_mode\": BoxMode.XYXY_ABS,\n",
    "                \"segmentation\": [poly],\n",
    "                \"category_id\": class_id,\n",
    "                }\n",
    "                \n",
    "            objs.append(obj)\n",
    "\n",
    "        # Adding to the record:\n",
    "        record[\"file_name\"] = filename\n",
    "        record[\"image_id\"] = i\n",
    "        record[\"height\"] = height\n",
    "        record[\"width\"] = width\n",
    "        record[\"annotations\"] = objs\n",
    "\n",
    "        dataset_dicts.append(record)\n",
    "\n",
    "    return dataset_dicts\n",
    "\n",
    "\n",
    "\n",
    "\n",
    "\n",
    "\n",
    "# get the list of image annotations\n",
    "# what is the image annotation?\n",
    "# image annotation is a list of dictionaries, each dictionary contains the following keys:\n",
    "# 'id', 'file_name', 'width', 'height'\n",
    "# the value of 'id' is the image id\n",
    "# the value of 'file_name' is the image name\n",
    "# the value of 'width' is the image width\n",
    "# the value of 'height' is the image height\n",
    "\n",
    "# get the list of image annotations (given the image path, label path and datasets from scratch)\n"
   ]
  },
  {
   "cell_type": "code",
   "execution_count": 15,
   "metadata": {},
   "outputs": [
    {
     "name": "stdout",
     "output_type": "stream",
     "text": [
      "Metadata(name='landslide_train', thing_classes=['landslide'])\n"
     ]
    }
   ],
   "source": [
    "for d in [\"train\"]:\n",
    "    DatasetCatalog.register(\"landslide_\" + d, lambda d=d: convert_yolo_to_detectron2_coco(img_dir, label_dir))\n",
    "    MetadataCatalog.get(\"landslide_\" + d).set(thing_classes=[\"landslide\"])\n",
    "landslide_metadata = MetadataCatalog.get(\"landslide_train\")\n",
    "\n",
    "print(landslide_metadata)"
   ]
  },
  {
   "cell_type": "code",
   "execution_count": 16,
   "metadata": {},
   "outputs": [
    {
     "ename": "NameError",
     "evalue": "name 'balloon_metadata' is not defined",
     "output_type": "error",
     "traceback": [
      "\u001b[0;31m---------------------------------------------------------------------------\u001b[0m",
      "\u001b[0;31mNameError\u001b[0m                                 Traceback (most recent call last)",
      "Input \u001b[0;32mIn [16]\u001b[0m, in \u001b[0;36m<cell line: 1>\u001b[0;34m()\u001b[0m\n\u001b[0;32m----> 1\u001b[0m \u001b[38;5;28mprint\u001b[39m(\u001b[43mballoon_metadata\u001b[49m)\n\u001b[1;32m      2\u001b[0m \u001b[38;5;28mprint\u001b[39m(landslide_metadata)\n",
      "\u001b[0;31mNameError\u001b[0m: name 'balloon_metadata' is not defined"
     ]
    }
   ],
   "source": [
    "print(balloon_metadata)\n",
    "print(landslide_metadata)"
   ]
  },
  {
   "cell_type": "code",
   "execution_count": 19,
   "metadata": {},
   "outputs": [
    {
     "name": "stdout",
     "output_type": "stream",
     "text": [
      "219\n"
     ]
    },
    {
     "ename": "",
     "evalue": "",
     "output_type": "error",
     "traceback": [
      "\u001b[1;31mThe Kernel crashed while executing code in the current cell or a previous cell. \n",
      "\u001b[1;31mPlease review the code in the cell(s) to identify a possible cause of the failure. \n",
      "\u001b[1;31mClick <a href='https://aka.ms/vscodeJupyterKernelCrash'>here</a> for more info. \n",
      "\u001b[1;31mView Jupyter <a href='command:jupyter.viewOutput'>log</a> for further details."
     ]
    }
   ],
   "source": [
    "# Checking with detectron2\n",
    "\n",
    "# get path to the image\n",
    "img_dir = 'All_Datasets/filtered_ls_data/images'\n",
    "label_dir = 'All_Datasets/filtered_ls_data/labels'\n",
    "\n",
    "dataset_dicts = convert_yolo_to_detectron2_coco(img_dir, label_dir)\n",
    "print(len(dataset_dicts))\n",
    "for d in random.sample(dataset_dicts, 3):\n",
    "    img = cv2.imread(os.path.join(img_dir, d[\"file_name\"]))\n",
    "    visualizer = Visualizer(img[:, :, ::-1], metadata=landslide_metadata)\n",
    "    out = visualizer.draw_dataset_dict(d)\n",
    "    # show image\n",
    "    cv2.imshow(\"Sample Image\", out.get_image()[:, :, ::-1])  # Added a window name here\n",
    "    cv2.waitKey(0)  # Wait for a key press to close the window"
   ]
  },
  {
   "cell_type": "code",
   "execution_count": 8,
   "metadata": {},
   "outputs": [
    {
     "name": "stdout",
     "output_type": "stream",
     "text": [
      "219\n"
     ]
    }
   ],
   "source": [
    "images = os.listdir(img_dir)\n",
    "print(len(images))"
   ]
  },
  {
   "cell_type": "code",
   "execution_count": null,
   "metadata": {},
   "outputs": [],
   "source": []
  }
 ],
 "metadata": {
  "kernelspec": {
   "display_name": "geek",
   "language": "python",
   "name": "python3"
  },
  "language_info": {
   "codemirror_mode": {
    "name": "ipython",
    "version": 3
   },
   "file_extension": ".py",
   "mimetype": "text/x-python",
   "name": "python",
   "nbconvert_exporter": "python",
   "pygments_lexer": "ipython3",
   "version": "3.9.16"
  }
 },
 "nbformat": 4,
 "nbformat_minor": 2
}
